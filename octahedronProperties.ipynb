{
 "cells": [
  {
   "cell_type": "markdown",
   "source": [
    "In geometry, an octahedron is a polyhedron with eight faces. The term is most commonly used to refer to the regular octahedron, a Platonic solid composed of eight equilateral triangles, four of which meet at each vertex.\n",
    "Number of vertices: 6\n",
    "Number of faces: 8\n",
    "Number of edges: 12\n",
    "\n",
    "Write a program that takes the length of an edge as input and then outputs the regular octahedron's surface area and volume.\n",
    "\n",
    "Follow the program structure we talked about in class, consider the sample solution for a similar problem provided to you in the module, and look at the rubric for additional information.\n",
    "\n",
    "After you are done with the \"input\" and \"calculation\" use string formatting aka f-string, short for format-string to output your results\n",
    "\n",
    "I think that this post is easy way to learn about f-string:\n",
    "https://www.datacamp.com/community/tutorials/f-string-formatting-in-python (Links to an external site.)\n",
    "\n",
    "If you want to know almost all there is about string formatting in Python, check out this:\n",
    "https://realpython.com/python-f-strings/ (Links to an external site.)\n",
    "\n",
    "But the 1st link is what I'd really recommend."
   ],
   "metadata": {
    "collapsed": false,
    "pycharm": {
     "name": "#%% md\n"
    }
   }
  },
  {
   "cell_type": "code",
   "execution_count": null,
   "outputs": [],
   "source": [
    "#Copyright (c) SparksTheFolf 2022 ~ MIT Public Licence ( http://wuffs.net/Licence )\n",
    "\n",
    "\n",
    "\n",
    "from math import sqrt\n",
    "\n",
    "#Constants\n",
    "vertices = 6\n",
    "faces = 8\n",
    "edges = 12\n",
    "\n",
    "\n",
    "#main runtime method\n",
    "def main():\n",
    "    length = input(\"Input Edge Length: \")\n",
    "\n",
    "    int_length = float(length)\n",
    "\n",
    "    volume_form = float(sqrt(2) / 3 * int_length ** 3)\n",
    "\n",
    "    surface_area_form = float((2 * sqrt(3) * int_length  ** 2))\n",
    "\n",
    "#Print All\n",
    "    print(f\"Volume Output: {volume_form}\")\n",
    "    print('\\n')\n",
    "    print(f\"Surface Area Output: {surface_area_form}\")\n",
    "\n",
    "#TODO ~~ Only Run Main method once all errors are gone  ~~\n",
    "if __name__ == \"__main__\":\n",
    "    main()\n"
   ],
   "metadata": {
    "collapsed": false,
    "pycharm": {
     "name": "#%%\n"
    }
   }
  }
 ],
 "metadata": {
  "kernelspec": {
   "display_name": "Python 3",
   "language": "python",
   "name": "python3"
  },
  "language_info": {
   "codemirror_mode": {
    "name": "ipython",
    "version": 2
   },
   "file_extension": ".py",
   "mimetype": "text/x-python",
   "name": "python",
   "nbconvert_exporter": "python",
   "pygments_lexer": "ipython2",
   "version": "2.7.6"
  }
 },
 "nbformat": 4,
 "nbformat_minor": 0
}